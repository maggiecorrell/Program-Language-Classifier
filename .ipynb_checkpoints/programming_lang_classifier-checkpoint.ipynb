{
 "cells": [
  {
   "cell_type": "code",
   "execution_count": 50,
   "metadata": {
    "collapsed": true
   },
   "outputs": [],
   "source": [
    "import glob\n",
    "import pandas as pd\n",
    "from sklearn.cross_validation import train_test_split\n",
    "from sklearn.feature_extraction.text import CountVectorizer\n",
    "from sklearn.feature_extraction.text import TfidfTransformer\n",
    "from sklearn.naive_bayes import MultinomialNB\n",
    "from sklearn.pipeline import Pipeline"
   ]
  },
  {
   "cell_type": "code",
   "execution_count": 51,
   "metadata": {
    "collapsed": false
   },
   "outputs": [],
   "source": [
    "extensions = ['c', 'gcc', 'csharp', 'sbcl', 'clojure', 'ghc', 'java', 'javascript', 'ocaml', 'perl', 'php',\n",
    "              'python3', 'jruby', 'yarv', 'scala', 'racket']\n",
    "extension_dict = {'c': 'C', 'gcc': 'C', 'clojure':'Clojure', 'csharp': 'Csharp', 'sbcl': 'Common Lisp', \n",
    "                  'ghc': 'Haskell', 'java': 'Java', 'javascript': 'JavaScript', 'ocaml': 'OCaml', 'perl': 'Perl', \n",
    "                  'php': 'PHP', 'python3': 'Python', 'jruby': 'Ruby', 'yarv': 'Ruby', 'scala': 'Scala', \n",
    "                  'racket': 'Scheme'}"
   ]
  },
  {
   "cell_type": "code",
   "execution_count": 52,
   "metadata": {
    "collapsed": false
   },
   "outputs": [],
   "source": [
    "def read_languages(directory, extension):\n",
    "    files = glob.glob('{}/**/*.{}'.format(directory, extension))\n",
    "    texts = []\n",
    "    for file in files:\n",
    "        with open(file, encoding ='latin-1') as f:\n",
    "            texts.append(f.read())\n",
    "    return texts"
   ]
  },
  {
   "cell_type": "code",
   "execution_count": 53,
   "metadata": {
    "collapsed": false
   },
   "outputs": [],
   "source": [
    "X = []\n",
    "y = []\n",
    "\n",
    "for extension in extensions:\n",
    "    x_files = read_languages('benchmarksgame-2014-08-31/benchmarksgame/bench', extension)\n",
    "    X += x_files\n",
    "    y += len(x_files) * [extension_dict[extension]]"
   ]
  },
  {
   "cell_type": "code",
   "execution_count": 67,
   "metadata": {
    "collapsed": false
   },
   "outputs": [
    {
     "name": "stdout",
     "output_type": "stream",
     "text": [
      "['C', 'C', 'C', 'C', 'C', 'C', 'C', 'C', 'C', 'C', 'C', 'C', 'C', 'C', 'C', 'C', 'C', 'C', 'C', 'C', 'C', 'C', 'C', 'C', 'C', 'C', 'C', 'C', 'C', 'C', 'C', 'C', 'C', 'C', 'C', 'C', 'C', 'C', 'C', 'C', 'C', 'C', 'C', 'C', 'C', 'C', 'C', 'C', 'C', 'C', 'C', 'C', 'C', 'C', 'C', 'C', 'C', 'C', 'Csharp', 'Csharp', 'Csharp', 'Csharp', 'Csharp', 'Csharp', 'Csharp', 'Csharp', 'Csharp', 'Csharp', 'Csharp', 'Csharp', 'Csharp', 'Csharp', 'Csharp', 'Csharp', 'Csharp', 'Csharp', 'Csharp', 'Csharp', 'Csharp', 'Csharp', 'Csharp', 'Csharp', 'Csharp', 'Csharp', 'Csharp', 'Csharp', 'Csharp', 'Csharp', 'Csharp', 'Csharp', 'Csharp', 'Csharp', 'Csharp', 'Csharp', 'Csharp', 'Csharp', 'Csharp', 'Csharp', 'Csharp', 'Common Lisp', 'Common Lisp', 'Common Lisp', 'Common Lisp', 'Common Lisp', 'Common Lisp', 'Common Lisp', 'Common Lisp', 'Common Lisp', 'Common Lisp', 'Common Lisp', 'Common Lisp', 'Common Lisp', 'Common Lisp', 'Common Lisp', 'Common Lisp', 'Common Lisp', 'Common Lisp', 'Common Lisp', 'Common Lisp', 'Common Lisp', 'Common Lisp', 'Common Lisp', 'Common Lisp', 'Common Lisp', 'Common Lisp', 'Common Lisp', 'Common Lisp', 'Common Lisp', 'Common Lisp', 'Common Lisp', 'Common Lisp', 'Common Lisp', 'Common Lisp', 'Clojure', 'Clojure', 'Clojure', 'Clojure', 'Clojure', 'Clojure', 'Clojure', 'Clojure', 'Clojure', 'Clojure', 'Clojure', 'Clojure', 'Clojure', 'Clojure', 'Clojure', 'Clojure', 'Clojure', 'Clojure', 'Clojure', 'Clojure', 'Clojure', 'Clojure', 'Clojure', 'Clojure', 'Clojure', 'Clojure', 'Clojure', 'Clojure', 'Clojure', 'Clojure', 'Clojure', 'Clojure', 'Clojure', 'Clojure', 'Clojure', 'Clojure', 'Clojure', 'Clojure', 'Haskell', 'Haskell', 'Haskell', 'Haskell', 'Haskell', 'Haskell', 'Haskell', 'Haskell', 'Haskell', 'Haskell', 'Haskell', 'Haskell', 'Haskell', 'Haskell', 'Haskell', 'Haskell', 'Haskell', 'Haskell', 'Haskell', 'Haskell', 'Haskell', 'Haskell', 'Haskell', 'Haskell', 'Haskell', 'Haskell', 'Haskell', 'Haskell', 'Haskell', 'Haskell', 'Haskell', 'Haskell', 'Haskell', 'Java', 'Java', 'Java', 'Java', 'Java', 'Java', 'Java', 'Java', 'Java', 'Java', 'Java', 'Java', 'Java', 'Java', 'Java', 'Java', 'Java', 'Java', 'Java', 'Java', 'Java', 'Java', 'Java', 'Java', 'Java', 'Java', 'Java', 'Java', 'Java', 'Java', 'Java', 'Java', 'Java', 'Java', 'Java', 'Java', 'Java', 'Java', 'Java', 'Java', 'Java', 'Java', 'Java', 'Java', 'Java', 'Java', 'Java', 'Java', 'Java', 'Java', 'Java', 'JavaScript', 'JavaScript', 'JavaScript', 'JavaScript', 'JavaScript', 'JavaScript', 'JavaScript', 'JavaScript', 'JavaScript', 'JavaScript', 'JavaScript', 'JavaScript', 'JavaScript', 'JavaScript', 'JavaScript', 'JavaScript', 'JavaScript', 'JavaScript', 'JavaScript', 'JavaScript', 'JavaScript', 'JavaScript', 'JavaScript', 'JavaScript', 'JavaScript', 'OCaml', 'OCaml', 'OCaml', 'OCaml', 'OCaml', 'OCaml', 'OCaml', 'OCaml', 'OCaml', 'OCaml', 'OCaml', 'OCaml', 'OCaml', 'OCaml', 'OCaml', 'OCaml', 'OCaml', 'OCaml', 'OCaml', 'OCaml', 'OCaml', 'OCaml', 'OCaml', 'OCaml', 'OCaml', 'OCaml', 'OCaml', 'OCaml', 'OCaml', 'OCaml', 'OCaml', 'OCaml', 'OCaml', 'OCaml', 'OCaml', 'Perl', 'Perl', 'Perl', 'Perl', 'Perl', 'Perl', 'Perl', 'Perl', 'Perl', 'Perl', 'Perl', 'Perl', 'Perl', 'Perl', 'Perl', 'Perl', 'Perl', 'Perl', 'Perl', 'Perl', 'Perl', 'Perl', 'Perl', 'Perl', 'Perl', 'Perl', 'Perl', 'Perl', 'Perl', 'Perl', 'Perl', 'Perl', 'Perl', 'Perl', 'PHP', 'PHP', 'PHP', 'PHP', 'PHP', 'PHP', 'PHP', 'PHP', 'PHP', 'PHP', 'PHP', 'PHP', 'PHP', 'PHP', 'PHP', 'PHP', 'PHP', 'PHP', 'PHP', 'PHP', 'PHP', 'PHP', 'PHP', 'PHP', 'PHP', 'PHP', 'PHP', 'PHP', 'PHP', 'Python', 'Python', 'Python', 'Python', 'Python', 'Python', 'Python', 'Python', 'Python', 'Python', 'Python', 'Python', 'Python', 'Python', 'Python', 'Python', 'Python', 'Python', 'Python', 'Python', 'Python', 'Python', 'Python', 'Python', 'Python', 'Python', 'Python', 'Python', 'Python', 'Python', 'Python', 'Python', 'Python', 'Python', 'Python', 'Python', 'Ruby', 'Ruby', 'Ruby', 'Ruby', 'Ruby', 'Ruby', 'Ruby', 'Ruby', 'Ruby', 'Ruby', 'Ruby', 'Ruby', 'Ruby', 'Ruby', 'Ruby', 'Ruby', 'Ruby', 'Ruby', 'Ruby', 'Ruby', 'Ruby', 'Ruby', 'Ruby', 'Ruby', 'Ruby', 'Ruby', 'Ruby', 'Ruby', 'Ruby', 'Ruby', 'Ruby', 'Ruby', 'Ruby', 'Ruby', 'Ruby', 'Ruby', 'Ruby', 'Ruby', 'Ruby', 'Ruby', 'Ruby', 'Ruby', 'Ruby', 'Ruby', 'Ruby', 'Ruby', 'Ruby', 'Ruby', 'Ruby', 'Ruby', 'Ruby', 'Ruby', 'Ruby', 'Ruby', 'Ruby', 'Ruby', 'Ruby', 'Ruby', 'Ruby', 'Ruby', 'Ruby', 'Ruby', 'Ruby', 'Ruby', 'Ruby', 'Ruby', 'Ruby', 'Ruby', 'Ruby', 'Ruby', 'Ruby', 'Ruby', 'Ruby', 'Scala', 'Scala', 'Scala', 'Scala', 'Scala', 'Scala', 'Scala', 'Scala', 'Scala', 'Scala', 'Scala', 'Scala', 'Scala', 'Scala', 'Scala', 'Scala', 'Scala', 'Scala', 'Scala', 'Scala', 'Scala', 'Scala', 'Scala', 'Scala', 'Scala', 'Scala', 'Scala', 'Scala', 'Scala', 'Scala', 'Scala', 'Scala', 'Scala', 'Scala', 'Scala', 'Scala', 'Scala', 'Scala', 'Scala', 'Scala', 'Scala', 'Scala', 'Scala', 'Scheme', 'Scheme', 'Scheme', 'Scheme', 'Scheme', 'Scheme', 'Scheme', 'Scheme', 'Scheme', 'Scheme', 'Scheme', 'Scheme', 'Scheme', 'Scheme', 'Scheme', 'Scheme', 'Scheme', 'Scheme', 'Scheme', 'Scheme', 'Scheme', 'Scheme', 'Scheme', 'Scheme', 'Scheme', 'Scheme', 'Scheme', 'Scheme', 'Scheme']\n"
     ]
    }
   ],
   "source": [
    "print(y)"
   ]
  },
  {
   "cell_type": "code",
   "execution_count": 54,
   "metadata": {
    "collapsed": false
   },
   "outputs": [
    {
     "data": {
      "text/plain": [
       "(559, 559)"
      ]
     },
     "execution_count": 54,
     "metadata": {},
     "output_type": "execute_result"
    }
   ],
   "source": [
    "len(X), len(y)"
   ]
  },
  {
   "cell_type": "code",
   "execution_count": 55,
   "metadata": {
    "collapsed": false
   },
   "outputs": [],
   "source": [
    "X_train, X_test, y_train, y_test = train_test_split(X, y, train_size=0.6, test_size=0.4)"
   ]
  },
  {
   "cell_type": "code",
   "execution_count": 56,
   "metadata": {
    "collapsed": false
   },
   "outputs": [],
   "source": [
    "map_pipeline = [('vect', CountVectorizer()), ('tuff', TfidfTransformer()), ('bay', MultinomialNB())]"
   ]
  },
  {
   "cell_type": "code",
   "execution_count": 57,
   "metadata": {
    "collapsed": true
   },
   "outputs": [],
   "source": [
    "pipeline = Pipeline(map_pipeline)"
   ]
  },
  {
   "cell_type": "code",
   "execution_count": 58,
   "metadata": {
    "collapsed": false
   },
   "outputs": [],
   "source": [
    "pipeline.fit(X_train, y_train)\n",
    "pass"
   ]
  },
  {
   "cell_type": "code",
   "execution_count": 59,
   "metadata": {
    "collapsed": false
   },
   "outputs": [
    {
     "name": "stdout",
     "output_type": "stream",
     "text": [
      "train score: 0.880597014925\n",
      "test score: 0.625\n"
     ]
    }
   ],
   "source": [
    "print('train score:', pipeline.score(X_train, y_train))\n",
    "print('test score:', pipeline.score(X_test, y_test))"
   ]
  },
  {
   "cell_type": "code",
   "execution_count": null,
   "metadata": {
    "collapsed": false
   },
   "outputs": [],
   "source": []
  },
  {
   "cell_type": "code",
   "execution_count": 60,
   "metadata": {
    "collapsed": true
   },
   "outputs": [],
   "source": [
    "def test_file():\n",
    "    files = glob.glob('polyglot/test/*')\n",
    "    tests = []\n",
    "    for file in files:\n",
    "        with open(file) as f:\n",
    "            tests.append(f.read())\n",
    "    return tests "
   ]
  },
  {
   "cell_type": "code",
   "execution_count": 61,
   "metadata": {
    "collapsed": false
   },
   "outputs": [],
   "source": [
    "language_tests = test_file()"
   ]
  },
  {
   "cell_type": "code",
   "execution_count": 62,
   "metadata": {
    "collapsed": false
   },
   "outputs": [],
   "source": [
    "y_test = pd.read_csv('polyglot/test.csv', names=['index', 'language'])"
   ]
  },
  {
   "cell_type": "code",
   "execution_count": 63,
   "metadata": {
    "collapsed": true
   },
   "outputs": [],
   "source": [
    "test = pipeline.predict(language_tests)"
   ]
  },
  {
   "cell_type": "code",
   "execution_count": 64,
   "metadata": {
    "collapsed": false,
    "scrolled": true
   },
   "outputs": [
    {
     "data": {
      "text/html": [
       "<div>\n",
       "<table border=\"1\" class=\"dataframe\">\n",
       "  <thead>\n",
       "    <tr style=\"text-align: right;\">\n",
       "      <th></th>\n",
       "      <th>0</th>\n",
       "    </tr>\n",
       "    <tr>\n",
       "      <th>language</th>\n",
       "      <th></th>\n",
       "    </tr>\n",
       "  </thead>\n",
       "  <tbody>\n",
       "    <tr>\n",
       "      <th>clojure</th>\n",
       "      <td>Clojure</td>\n",
       "    </tr>\n",
       "    <tr>\n",
       "      <th>clojure</th>\n",
       "      <td>Ruby</td>\n",
       "    </tr>\n",
       "    <tr>\n",
       "      <th>clojure</th>\n",
       "      <td>Ruby</td>\n",
       "    </tr>\n",
       "    <tr>\n",
       "      <th>clojure</th>\n",
       "      <td>Ruby</td>\n",
       "    </tr>\n",
       "    <tr>\n",
       "      <th>python</th>\n",
       "      <td>Ruby</td>\n",
       "    </tr>\n",
       "    <tr>\n",
       "      <th>python</th>\n",
       "      <td>Ruby</td>\n",
       "    </tr>\n",
       "    <tr>\n",
       "      <th>python</th>\n",
       "      <td>Ruby</td>\n",
       "    </tr>\n",
       "    <tr>\n",
       "      <th>python</th>\n",
       "      <td>Java</td>\n",
       "    </tr>\n",
       "    <tr>\n",
       "      <th>javascript</th>\n",
       "      <td>Ruby</td>\n",
       "    </tr>\n",
       "    <tr>\n",
       "      <th>javascript</th>\n",
       "      <td>Ruby</td>\n",
       "    </tr>\n",
       "    <tr>\n",
       "      <th>javascript</th>\n",
       "      <td>Ruby</td>\n",
       "    </tr>\n",
       "    <tr>\n",
       "      <th>javascript</th>\n",
       "      <td>Clojure</td>\n",
       "    </tr>\n",
       "    <tr>\n",
       "      <th>ruby</th>\n",
       "      <td>Scheme</td>\n",
       "    </tr>\n",
       "    <tr>\n",
       "      <th>ruby</th>\n",
       "      <td>Scheme</td>\n",
       "    </tr>\n",
       "    <tr>\n",
       "      <th>ruby</th>\n",
       "      <td>Java</td>\n",
       "    </tr>\n",
       "    <tr>\n",
       "      <th>haskell</th>\n",
       "      <td>C</td>\n",
       "    </tr>\n",
       "    <tr>\n",
       "      <th>haskell</th>\n",
       "      <td>Ruby</td>\n",
       "    </tr>\n",
       "    <tr>\n",
       "      <th>haskell</th>\n",
       "      <td>Scala</td>\n",
       "    </tr>\n",
       "    <tr>\n",
       "      <th>scheme</th>\n",
       "      <td>Ruby</td>\n",
       "    </tr>\n",
       "    <tr>\n",
       "      <th>scheme</th>\n",
       "      <td>Ruby</td>\n",
       "    </tr>\n",
       "    <tr>\n",
       "      <th>scheme</th>\n",
       "      <td>C</td>\n",
       "    </tr>\n",
       "    <tr>\n",
       "      <th>java</th>\n",
       "      <td>Ruby</td>\n",
       "    </tr>\n",
       "    <tr>\n",
       "      <th>java</th>\n",
       "      <td>Clojure</td>\n",
       "    </tr>\n",
       "    <tr>\n",
       "      <th>scala</th>\n",
       "      <td>Ruby</td>\n",
       "    </tr>\n",
       "    <tr>\n",
       "      <th>scala</th>\n",
       "      <td>OCaml</td>\n",
       "    </tr>\n",
       "    <tr>\n",
       "      <th>tcl</th>\n",
       "      <td>OCaml</td>\n",
       "    </tr>\n",
       "    <tr>\n",
       "      <th>tcl</th>\n",
       "      <td>Ruby</td>\n",
       "    </tr>\n",
       "    <tr>\n",
       "      <th>php</th>\n",
       "      <td>Ruby</td>\n",
       "    </tr>\n",
       "    <tr>\n",
       "      <th>php</th>\n",
       "      <td>C</td>\n",
       "    </tr>\n",
       "    <tr>\n",
       "      <th>php</th>\n",
       "      <td>Ruby</td>\n",
       "    </tr>\n",
       "    <tr>\n",
       "      <th>ocaml</th>\n",
       "      <td>Ruby</td>\n",
       "    </tr>\n",
       "    <tr>\n",
       "      <th>ocaml</th>\n",
       "      <td>Ruby</td>\n",
       "    </tr>\n",
       "  </tbody>\n",
       "</table>\n",
       "</div>"
      ],
      "text/plain": [
       "                  0\n",
       "language           \n",
       "clojure     Clojure\n",
       "clojure        Ruby\n",
       "clojure        Ruby\n",
       "clojure        Ruby\n",
       "python         Ruby\n",
       "python         Ruby\n",
       "python         Ruby\n",
       "python         Java\n",
       "javascript     Ruby\n",
       "javascript     Ruby\n",
       "javascript     Ruby\n",
       "javascript  Clojure\n",
       "ruby         Scheme\n",
       "ruby         Scheme\n",
       "ruby           Java\n",
       "haskell           C\n",
       "haskell        Ruby\n",
       "haskell       Scala\n",
       "scheme         Ruby\n",
       "scheme         Ruby\n",
       "scheme            C\n",
       "java           Ruby\n",
       "java        Clojure\n",
       "scala          Ruby\n",
       "scala         OCaml\n",
       "tcl           OCaml\n",
       "tcl            Ruby\n",
       "php            Ruby\n",
       "php               C\n",
       "php            Ruby\n",
       "ocaml          Ruby\n",
       "ocaml          Ruby"
      ]
     },
     "execution_count": 64,
     "metadata": {},
     "output_type": "execute_result"
    }
   ],
   "source": [
    "pd.DataFrame(test, y_test['language'])"
   ]
  },
  {
   "cell_type": "code",
   "execution_count": null,
   "metadata": {
    "collapsed": true
   },
   "outputs": [],
   "source": []
  }
 ],
 "metadata": {
  "kernelspec": {
   "display_name": "Python 3",
   "language": "python",
   "name": "python3"
  },
  "language_info": {
   "codemirror_mode": {
    "name": "ipython",
    "version": 3
   },
   "file_extension": ".py",
   "mimetype": "text/x-python",
   "name": "python",
   "nbconvert_exporter": "python",
   "pygments_lexer": "ipython3",
   "version": "3.5.1"
  }
 },
 "nbformat": 4,
 "nbformat_minor": 0
}
